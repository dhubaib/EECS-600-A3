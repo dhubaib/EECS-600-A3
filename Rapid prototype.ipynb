{
 "cells": [
  {
   "cell_type": "markdown",
   "metadata": {},
   "source": [
    "## Rapid prototyping plotting function"
   ]
  },
  {
   "cell_type": "code",
   "execution_count": 63,
   "metadata": {
    "collapsed": false
   },
   "outputs": [
    {
     "name": "stderr",
     "output_type": "stream",
     "text": [
      "D:\\Users\\Khalid\\Anaconda\\lib\\site-packages\\matplotlib\\__init__.py:1318: UserWarning:  This call to matplotlib.use() has no effect\n",
      "because the backend has already been chosen;\n",
      "matplotlib.use() must be called *before* pylab, matplotlib.pyplot,\n",
      "or matplotlib.backends is imported for the first time.\n",
      "\n",
      "  warnings.warn(_use_error_msg)\n"
     ]
    }
   ],
   "source": [
    "# Python program that loads a text file with a 2D array and plots averages\n",
    "# and standard deviation. It receives a filename as a command-line argument and\n",
    "# creates a .jpg file containing the plot. The data file must be formatted such that\n",
    "# the first column has x-axis values and the remaining columns have values\n",
    "# for multiple measurements that are to be averaged. \n",
    "\n",
    "# Requires numpy and pylab.\n",
    "import sys\n",
    "import csv\n",
    "\n",
    "from matplotlib import use\n",
    "use('Agg')\n",
    "from matplotlib import pyplot\n",
    "%matplotlib inline\n",
    "from pylab import *\n",
    "from numpy import *"
   ]
  },
  {
   "cell_type": "code",
   "execution_count": 64,
   "metadata": {
    "collapsed": false
   },
   "outputs": [],
   "source": [
    "## Read in data from results folder\n",
    "for i in range(1,6):\n",
    "    insert_rnd_file = 'Results/insertion_rand_test'+str(i)+'.csv'\n",
    "    insert_rev_file = 'Results/insertion_reverse_test'+str(i)+'.csv'\n",
    "    quick_rnd_file = 'Results/quick_rand_test'+str(i)+'.csv'\n",
    "    quick_rev_file = 'Results/quick_reverse_test'+str(i)+'.csv'\n",
    "    \n",
    "    # Open files\n",
    "    f1 = open(insert_rnd_file,'r')\n",
    "    f2 = open(insert_rev_file,'r')\n",
    "    f3 = open(quick_rnd_file,'r')\n",
    "    f4 = open(quick_rev_file,'r')\n",
    "    \n",
    "    r1 = csv.reader(f1)\n",
    "    r2 = csv.reader(f2)\n",
    "    r3 = csv.reader(f3)\n",
    "    r4 = csv.reader(f4)\n",
    "    \n",
    "    if(i==1): # Grab header on first pass\n",
    "        insert_rnd_dat = asarray(map(float,r1.next()))\n",
    "        insert_rev_dat = asarray(map(float,r2.next()))\n",
    "        quick_rnd_dat = asarray(map(float,r3.next()))\n",
    "        quick_rev_dat = asarray(map(float,r4.next()))\n",
    "    else: # Ignore header\n",
    "        r1.next()\n",
    "        r2.next()\n",
    "        r3.next()\n",
    "        r4.next()\n",
    "    \n",
    "    # Continue appending rows from other files\n",
    "    insert_rnd_dat = vstack((insert_rnd_dat, asarray(map(float,r1.next()))))\n",
    "    insert_rev_dat = vstack((insert_rev_dat, asarray(map(float,r2.next()))))\n",
    "    quick_rnd_dat = vstack((quick_rnd_dat, asarray(map(float,r3.next()))))\n",
    "    quick_rev_dat = vstack((quick_rev_dat, asarray(map(float,r4.next()))))\n",
    "    \n",
    "    # Close open files\n",
    "    f1.close()\n",
    "    f2.close()\n",
    "    f3.close()\n",
    "    f4.close()"
   ]
  },
  {
   "cell_type": "code",
   "execution_count": 65,
   "metadata": {
    "collapsed": false
   },
   "outputs": [
    {
     "data": {
      "text/plain": [
       "<matplotlib.text.Text at 0xd804128>"
      ]
     },
     "execution_count": 65,
     "metadata": {},
     "output_type": "execute_result"
    },
    {
     "data": {
      "image/png": "[encoded data removed]",
      "text/plain": [
       "<matplotlib.figure.Figure at 0xd3814a8>"
      ]
     },
     "metadata": {},
     "output_type": "display_data"
    }
   ],
   "source": [
    "## Create two subplots representing results\n",
    "\n",
    "# Alias for data names, for easier referencing in plot\n",
    "dat1 = insert_rnd_dat\n",
    "dat2 = insert_rev_dat\n",
    "dat3 = quick_rnd_dat\n",
    "dat4 = quick_rev_dat\n",
    "\n",
    "pyplot.figure()\n",
    "# Subplot 1 -> Insertion sort results\n",
    "pyplot.subplot(1,2,1)\n",
    "\n",
    "x1 = dat1[0]\n",
    "m1 = mean(dat1[1:,:]/1000, axis=0)\n",
    "s1 = std(dat1[1:,:]/1000, axis=0)\n",
    "\n",
    "x2 = dat2[0]\n",
    "m2 = mean(dat2[1:,:]/1000, axis=0)\n",
    "s2 = std(dat2[1:,:]/1000, axis=0)\n",
    "\n",
    "h1 = pyplot.errorbar(x1, m1, yerr=s1,elinewidth=2,color='red') # Plot lines\n",
    "h2 = pyplot.errorbar(x2, m2, yerr=s2,elinewidth=2,color='black') # Plot lines\n",
    "\n",
    "plt.ticklabel_format(style='sci', axis='x', scilimits=(0,0))\n",
    "xlabel('Array Size')\n",
    "ylabel('Time (sec)')\n",
    "legend([h1,h2], ['Random Ordered','Reversed'])\n",
    "title('Insertion Sort')\n",
    "\n",
    "# Subplot 2 -> Quick sort results\n",
    "pyplot.subplot(1,2,2)\n",
    "\n",
    "x1 = dat3[0]\n",
    "m1 = mean(dat3[1:,:]/1000, axis=0)\n",
    "s1 = std(dat3[1:,:]/1000, axis=0)\n",
    "\n",
    "x2 = dat4[0]\n",
    "m2 = mean(dat4[1:,:]/1000, axis=0)\n",
    "s2 = std(dat4[1:,:]/1000, axis=0)\n",
    "\n",
    "h1 = pyplot.errorbar(x1, m1, yerr=s1,elinewidth=2,color='red') # Plot lines\n",
    "h2 = pyplot.errorbar(x2, m2, yerr=s2,elinewidth=2,color='black') # Plot lines\n",
    "\n",
    "plt.ticklabel_format(style='sci', axis='x', scilimits=(0,0))\n",
    "xlabel('Array Size')\n",
    "ylabel('Time (sec)')\n",
    "legend([h1,h2], ['Random Ordered','Reversed'])\n",
    "title('Quick Sort')"
   ]
  },
  {
   "cell_type": "code",
   "execution_count": null,
   "metadata": {
    "collapsed": true
   },
   "outputs": [],
   "source": [
    "savefig('test' + '.png')"
   ]
  },
  {
   "cell_type": "code",
   "execution_count": null,
   "metadata": {
    "collapsed": true
   },
   "outputs": [],
   "source": []
  }
 ],
 "metadata": {
  "kernelspec": {
   "display_name": "Python 2",
   "language": "python",
   "name": "python2"
  },
  "language_info": {
   "codemirror_mode": {
    "name": "ipython",
    "version": 2
   },
   "file_extension": ".py",
   "mimetype": "text/x-python",
   "name": "python",
   "nbconvert_exporter": "python",
   "pygments_lexer": "ipython2",
   "version": "2.7.10"
  }
 },
 "nbformat": 4,
 "nbformat_minor": 0
}
