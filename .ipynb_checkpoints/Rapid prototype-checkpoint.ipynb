{
 "cells": [
  {
   "cell_type": "markdown",
   "metadata": {},
   "source": [
    "## Rapid prototyping plotting function"
   ]
  },
  {
   "cell_type": "code",
   "execution_count": 4,
   "metadata": {
    "collapsed": true
   },
   "outputs": [],
   "source": [
    "# Python program that loads a text file with a 2D array and plots averages\n",
    "# and standard deviation. It receives a filename as a command-line argument and\n",
    "# creates a .jpg file containing the plot. The data file must be formatted such that\n",
    "# the first column has x-axis values and the remaining columns have values\n",
    "# for multiple measurements that are to be averaged. \n",
    "\n",
    "# Requires numpy and pylab.\n",
    "import sys\n",
    "import csv\n",
    "\n",
    "from matplotlib import use\n",
    "use('Agg')\n",
    "from matplotlib import pyplot\n",
    "from pylab import *\n",
    "from numpy import *"
   ]
  },
  {
   "cell_type": "code",
   "execution_count": 46,
   "metadata": {
    "collapsed": false
   },
   "outputs": [],
   "source": [
    "## Read in data from results folder\n",
    "for i in range(1,6):\n",
    "    insert_rnd_file = 'Results/insertion_rand_test'+str(i)+'.csv'\n",
    "    insert_rev_file = 'Results/insertion_reverse_test'+str(i)+'.csv'\n",
    "    quick_rnd_file = 'Results/quick_rand_test'+str(i)+'.csv'\n",
    "    quick_rev_file = 'Results/quick_reverse_test'+str(i)+'.csv'\n",
    "    \n",
    "    # Open files\n",
    "    f1 = open(insert_rnd_file,'r')\n",
    "    f2 = open(insert_rev_file,'r')\n",
    "    f3 = open(quick_rnd_file,'r')\n",
    "    f4 = open(quick_rev_file,'r')\n",
    "    \n",
    "    r1 = csv.reader(f1)\n",
    "    r2 = csv.reader(f2)\n",
    "    r3 = csv.reader(f3)\n",
    "    r4 = csv.reader(f4)\n",
    "    \n",
    "    if(i==1): # Grab header on first pass\n",
    "        insert_rnd_dat = asarray(map(float,r1.next()))\n",
    "        insert_rev_dat = asarray(map(float,r2.next()))\n",
    "        quick_rnd_dat = asarray(map(float,r3.next()))\n",
    "        quick_rev_dat = asarray(map(float,r4.next()))\n",
    "    else: # Ignore header\n",
    "        r1.next()\n",
    "        r2.next()\n",
    "        r3.next()\n",
    "        r4.next()\n",
    "    \n",
    "    # Continue appending rows from other files\n",
    "    insert_rnd_dat = vstack((insert_rnd_dat, asarray(map(float,r1.next()))))\n",
    "    insert_rev_dat = vstack((insert_rev_dat, asarray(map(float,r2.next()))))\n",
    "    quick_rnd_dat = vstack((quick_rnd_dat, asarray(map(float,r3.next()))))\n",
    "    quick_rev_dat = vstack((quick_rev_dat, asarray(map(float,r4.next()))))\n",
    "    \n",
    "    # Close open files\n",
    "    f1.close()\n",
    "    f2.close()\n",
    "    f3.close()\n",
    "    f4.close()"
   ]
  },
  {
   "cell_type": "code",
   "execution_count": null,
   "metadata": {
    "collapsed": true
   },
   "outputs": [],
   "source": [
    "## Create two subplots representing results\n",
    "\n",
    "# Alias for data names, for easier referencing in plot\n",
    "dat1 = insert_rnd_dat\n",
    "dat2 = insert_rev_dat\n",
    "dat3 = quick_rnd_dat\n",
    "dat4 = quick_rev_dat\n",
    "\n",
    "# Subplot 1 -> \n",
    "x1 = [0]\n",
    "m1 = mean(data[1:,:]/1000, axis=0)\n",
    "s1 = std(data[1:,:]/1000, axis=0)\n",
    "\n",
    "pyplot.figure()\n",
    "pyplot.errorbar(x, m, yerr=s,elinewidth=2) # Plot lines\n",
    "\n",
    "plt.ticklabel_format(style='sci', axis='x', scilimits=(0,0))\n",
    "xlabel('Array Size')\n",
    "ylabel('Time (sec)')\n",
    "title('test')\n",
    "savefig('test' + '.png')\n"
   ]
  }
 ],
 "metadata": {
  "kernelspec": {
   "display_name": "Python 2",
   "language": "python",
   "name": "python2"
  },
  "language_info": {
   "codemirror_mode": {
    "name": "ipython",
    "version": 2
   },
   "file_extension": ".py",
   "mimetype": "text/x-python",
   "name": "python",
   "nbconvert_exporter": "python",
   "pygments_lexer": "ipython2",
   "version": "2.7.10"
  }
 },
 "nbformat": 4,
 "nbformat_minor": 0
}
